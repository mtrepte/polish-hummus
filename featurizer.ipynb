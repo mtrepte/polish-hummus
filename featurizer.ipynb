{
 "cells": [
  {
   "cell_type": "code",
   "execution_count": 1,
   "metadata": {
    "collapsed": true
   },
   "outputs": [],
   "source": [
    "from sklearn.feature_extraction.text import CountVectorizer, TfidfVectorizer\n",
    "import random\n",
    "import pandas as pd"
   ]
  },
  {
   "cell_type": "code",
   "execution_count": 6,
   "metadata": {
    "collapsed": true
   },
   "outputs": [],
   "source": [
    "def get_tweets():\n",
    "    tweets = pd.read_csv(\"tweets.csv\", encoding = \"ISO-8859-1\")\n",
    "    return tweets"
   ]
  },
  {
   "cell_type": "code",
   "execution_count": 37,
   "metadata": {
    "collapsed": true
   },
   "outputs": [],
   "source": [
    "def get_feats_and_labels(tweets):\n",
    "    # tweet texts\n",
    "    tweets.feats = tweets['tweet_text']\n",
    "    \n",
    "    # binary hate speech classification (1 or 0)\n",
    "    tweets.bin_labels = tweets['does_this_tweet_contain_hate_speech']\n",
    "    tweets.bin_labels = [1 if label == 'The tweet contains hate speech' else 0 for label in tweets.bin_labels]\n",
    "    \n",
    "    # continuous hate speech metric (0 to 1)\n",
    "    tweets.cont_labels = tweets['does_this_tweet_contain_hate_speech:confidence']\n",
    "    \n",
    "    return [tweets.feats, tweets.bin_labels, tweets.cont_labels]\n"
   ]
  },
  {
   "cell_type": "code",
   "execution_count": 53,
   "metadata": {
    "collapsed": true
   },
   "outputs": [],
   "source": [
    "def bag_of_words(tweets):\n",
    "    random.shuffle(tweets)\n",
    "    featurizer = CountVectorizer()\n",
    "    X = featurizer.fit_transform(tweets)\n",
    "    X = X.toarray()\n",
    "    return X"
   ]
  },
  {
   "cell_type": "code",
   "execution_count": 54,
   "metadata": {
    "collapsed": true
   },
   "outputs": [],
   "source": [
    "def tfidf(tweets):\n",
    "    random.shuffle(tweets)\n",
    "    featurizer = TfidfVectorizer()\n",
    "    X = featurizer.fit_transform(tweets)\n",
    "    X = X.toarray()\n",
    "    return X"
   ]
  },
  {
   "cell_type": "code",
   "execution_count": 61,
   "metadata": {
    "collapsed": false
   },
   "outputs": [
    {
     "name": "stdout",
     "output_type": "stream",
     "text": [
      "0.214997866982\n",
      "0.1211712627\n",
      "0.0426405399991\n",
      "0.126681630696\n",
      "0.152353263437\n",
      "0.0426756849546\n",
      "0.136701011949\n",
      "0.0523786406566\n",
      "0.17445231723\n",
      "0.0977123204795\n",
      "0.0510452430254\n",
      "0.0766684799841\n",
      "0.107301833659\n",
      "0.0540016672618\n",
      "0.0405968457973\n",
      "0.0945912182953\n",
      "0.0712433572626\n",
      "0.0828770838947\n",
      "0.348938778355\n",
      "0.269477927553\n",
      "0.701872049966\n",
      "0.167299810762\n",
      "0.10313187617\n",
      "0.104085635549\n",
      "0.121606846596\n",
      "0.147920013725\n",
      "0.127279662593\n"
     ]
    }
   ],
   "source": [
    "da"
   ]
  },
  {
   "cell_type": "code",
   "execution_count": null,
   "metadata": {
    "collapsed": true
   },
   "outputs": [],
   "source": []
  }
 ],
 "metadata": {
  "kernelspec": {
   "display_name": "Python 3",
   "language": "python",
   "name": "python3"
  },
  "language_info": {
   "codemirror_mode": {
    "name": "ipython",
    "version": 3
   },
   "file_extension": ".py",
   "mimetype": "text/x-python",
   "name": "python",
   "nbconvert_exporter": "python",
   "pygments_lexer": "ipython3",
   "version": "3.6.0"
  }
 },
 "nbformat": 4,
 "nbformat_minor": 2
}
